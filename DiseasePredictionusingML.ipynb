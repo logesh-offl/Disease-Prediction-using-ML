{
 "cells": [
  {
   "cell_type": "code",
   "execution_count": 140,
   "id": "8854e455-e09b-4722-b79a-e0f7f192455c",
   "metadata": {},
   "outputs": [],
   "source": [
    "import pandas as pd\n",
    "from sklearn.preprocessing import LabelEncoder\n",
    "import warnings\n",
    "warnings.filterwarnings(\"ignore\")"
   ]
  },
  {
   "cell_type": "code",
   "execution_count": 6,
   "id": "c857f041-6dcc-41d4-afaf-b14ca04bcf94",
   "metadata": {},
   "outputs": [
    {
     "data": {
      "text/html": [
       "<div>\n",
       "<style scoped>\n",
       "    .dataframe tbody tr th:only-of-type {\n",
       "        vertical-align: middle;\n",
       "    }\n",
       "\n",
       "    .dataframe tbody tr th {\n",
       "        vertical-align: top;\n",
       "    }\n",
       "\n",
       "    .dataframe thead th {\n",
       "        text-align: right;\n",
       "    }\n",
       "</style>\n",
       "<table border=\"1\" class=\"dataframe\">\n",
       "  <thead>\n",
       "    <tr style=\"text-align: right;\">\n",
       "      <th></th>\n",
       "      <th>Patient_Problem</th>\n",
       "      <th>Disease</th>\n",
       "      <th>Prescription</th>\n",
       "    </tr>\n",
       "  </thead>\n",
       "  <tbody>\n",
       "    <tr>\n",
       "      <th>0</th>\n",
       "      <td>Constant fatigue and muscle weakness, struggli...</td>\n",
       "      <td>Chronic Fatigue Syndrome</td>\n",
       "      <td>Cognitive behavioral therapy, graded exercise ...</td>\n",
       "    </tr>\n",
       "    <tr>\n",
       "      <th>1</th>\n",
       "      <td>Frequent severe migraines, sensitivity to ligh...</td>\n",
       "      <td>Migraine with Aura</td>\n",
       "      <td>Prescription triptans, avoid triggers like bri...</td>\n",
       "    </tr>\n",
       "    <tr>\n",
       "      <th>2</th>\n",
       "      <td>Sudden weight gain and feeling cold, especiall...</td>\n",
       "      <td>Hypothyroidism</td>\n",
       "      <td>Levothyroxine to regulate thyroid hormone levels.</td>\n",
       "    </tr>\n",
       "    <tr>\n",
       "      <th>3</th>\n",
       "      <td>High fever, sore throat, and swollen lymph nod...</td>\n",
       "      <td>Mononucleosis</td>\n",
       "      <td>Rest and hydration, ibuprofen for pain.</td>\n",
       "    </tr>\n",
       "    <tr>\n",
       "      <th>4</th>\n",
       "      <td>Excessive thirst and frequent urination, dry m...</td>\n",
       "      <td>Diabetes Mellitus</td>\n",
       "      <td>Insulin therapy and lifestyle changes.</td>\n",
       "    </tr>\n",
       "  </tbody>\n",
       "</table>\n",
       "</div>"
      ],
      "text/plain": [
       "                                     Patient_Problem  \\\n",
       "0  Constant fatigue and muscle weakness, struggli...   \n",
       "1  Frequent severe migraines, sensitivity to ligh...   \n",
       "2  Sudden weight gain and feeling cold, especiall...   \n",
       "3  High fever, sore throat, and swollen lymph nod...   \n",
       "4  Excessive thirst and frequent urination, dry m...   \n",
       "\n",
       "                    Disease                                       Prescription  \n",
       "0  Chronic Fatigue Syndrome  Cognitive behavioral therapy, graded exercise ...  \n",
       "1        Migraine with Aura  Prescription triptans, avoid triggers like bri...  \n",
       "2            Hypothyroidism  Levothyroxine to regulate thyroid hormone levels.  \n",
       "3             Mononucleosis            Rest and hydration, ibuprofen for pain.  \n",
       "4         Diabetes Mellitus             Insulin therapy and lifestyle changes.  "
      ]
     },
     "execution_count": 6,
     "metadata": {},
     "output_type": "execute_result"
    }
   ],
   "source": [
    "data = pd.read_csv(r\"D:\\Dataset\\medical_data.csv\")\n",
    "data.head()"
   ]
  },
  {
   "cell_type": "code",
   "execution_count": 74,
   "id": "8681c645-0cd8-44e0-9ba1-bd92e3604ed2",
   "metadata": {},
   "outputs": [
    {
     "data": {
      "text/plain": [
       "'constant fatigu muscl weak struggl stay awak'"
      ]
     },
     "execution_count": 74,
     "metadata": {},
     "output_type": "execute_result"
    }
   ],
   "source": [
    "data[\"Patient_Problem\"][0]"
   ]
  },
  {
   "cell_type": "code",
   "execution_count": 7,
   "id": "a9b9a37f-e5fd-4a5b-bfb4-e2c9656f7e3b",
   "metadata": {},
   "outputs": [
    {
     "name": "stdout",
     "output_type": "stream",
     "text": [
      "<class 'pandas.core.frame.DataFrame'>\n",
      "RangeIndex: 407 entries, 0 to 406\n",
      "Data columns (total 3 columns):\n",
      " #   Column           Non-Null Count  Dtype \n",
      "---  ------           --------------  ----- \n",
      " 0   Patient_Problem  407 non-null    object\n",
      " 1   Disease          407 non-null    object\n",
      " 2   Prescription     407 non-null    object\n",
      "dtypes: object(3)\n",
      "memory usage: 9.7+ KB\n"
     ]
    }
   ],
   "source": [
    "data.info()"
   ]
  },
  {
   "cell_type": "code",
   "execution_count": 86,
   "id": "2858d405-c220-48a7-97f3-52174df72659",
   "metadata": {},
   "outputs": [],
   "source": [
    "x = data[\"Patient_Problem\"]\n",
    "y = data[\"Disease\"]"
   ]
  },
  {
   "cell_type": "code",
   "execution_count": 9,
   "id": "95f85194-bffb-40f9-b435-49b28a10cdd4",
   "metadata": {},
   "outputs": [],
   "source": [
    "encode = LabelEncoder()\n",
    "y_encode = encode.fit_transform(y)"
   ]
  },
  {
   "cell_type": "code",
   "execution_count": 137,
   "id": "d4fe45f0-cad6-4098-af79-9b140c57249b",
   "metadata": {},
   "outputs": [],
   "source": [
    "import re\n",
    "import nltk\n",
    "from nltk.stem import PorterStemmer\n",
    "from nltk.corpus import stopwords\n",
    "from sklearn.feature_extraction.text import TfidfVectorizer,CountVectorizer\n",
    "from sklearn.model_selection import train_test_split,cross_val_score,GridSearchCV\n",
    "from sklearn.metrics import accuracy_score\n",
    "from sklearn.preprocessing import LabelEncoder\n",
    "import numpy as np"
   ]
  },
  {
   "cell_type": "code",
   "execution_count": 11,
   "id": "bfc50e7c-5900-4ed2-991f-7f9ebb93e147",
   "metadata": {},
   "outputs": [],
   "source": [
    "port = PorterStemmer()"
   ]
  },
  {
   "cell_type": "code",
   "execution_count": 21,
   "id": "513c8a24-b507-4bb8-9999-2e720ab37819",
   "metadata": {},
   "outputs": [
    {
     "data": {
      "text/plain": [
       "0      Constant fatigue and muscle weakness, struggli...\n",
       "1      Frequent severe migraines, sensitivity to ligh...\n",
       "2      Sudden weight gain and feeling cold, especiall...\n",
       "3      High fever, sore throat, and swollen lymph nod...\n",
       "4      Excessive thirst and frequent urination, dry m...\n",
       "                             ...                        \n",
       "402    Noticeable thinning of the hair on the top of ...\n",
       "403    Greenish discharge from the eyes, accompanied ...\n",
       "404    Experiencing confusion, difficulty speaking, a...\n",
       "405    Constant feeling of fullness in the ears and h...\n",
       "406    Blood in stool, along with a change in bowel m...\n",
       "Name: Patient_Problem, Length: 407, dtype: object"
      ]
     },
     "execution_count": 21,
     "metadata": {},
     "output_type": "execute_result"
    }
   ],
   "source": [
    "x"
   ]
  },
  {
   "cell_type": "code",
   "execution_count": 28,
   "id": "4dcef97b-fed9-401c-8c9c-73f22b63f328",
   "metadata": {},
   "outputs": [],
   "source": [
    "def preprocess(text):\n",
    "    text = re.sub(\"[^a-zA-Z]\",\" \",text)\n",
    "    text = text.lower()\n",
    "    text = text.split()\n",
    "    stemmed = [port.stem(i) for i in text if not i in stopwords.words(\"english\")]\n",
    "    final = \" \".join(stemmed)\n",
    "    return final"
   ]
  },
  {
   "cell_type": "code",
   "execution_count": 78,
   "id": "0ce00fd7-335d-42e0-99d3-1bb14a1cfd4a",
   "metadata": {},
   "outputs": [
    {
     "data": {
      "text/plain": [
       "'constant fatigu muscl weak struggl stay awak'"
      ]
     },
     "execution_count": 78,
     "metadata": {},
     "output_type": "execute_result"
    }
   ],
   "source": [
    "t = \"Constant fatigue and muscle weakness, struggling to stay awake.\"\n",
    "preprocess(t)"
   ]
  },
  {
   "cell_type": "code",
   "execution_count": 54,
   "id": "522c4329-c13d-4283-b636-aa8cb9081bea",
   "metadata": {},
   "outputs": [],
   "source": [
    "data[\"Patient_Problem\"] =data[\"Patient_Problem\"].apply(preprocess)"
   ]
  },
  {
   "cell_type": "code",
   "execution_count": 87,
   "id": "12dca8c7-feba-4936-ba15-2eb3724cfd0c",
   "metadata": {},
   "outputs": [],
   "source": [
    "count = CountVectorizer()\n",
    "x = count.fit_transform(x)"
   ]
  },
  {
   "cell_type": "code",
   "execution_count": 91,
   "id": "d96f9117-3a26-497e-8ebf-831894365fcd",
   "metadata": {},
   "outputs": [
    {
     "name": "stdout",
     "output_type": "stream",
     "text": [
      "['abdomen' 'abdomin' 'accompani' 'achil' 'acid' 'acn' 'across' 'activ'\n",
      " 'acut' 'affect' 'air' 'allergi' 'almost' 'along' 'alter' 'amount' 'ankl'\n",
      " 'anxieti' 'anxiou' 'anymor' 'appar' 'appear' 'appetit' 'area' 'arm'\n",
      " 'around' 'asleep' 'attack' 'avoid' 'awak' 'away' 'back' 'balanc' 'bald'\n",
      " 'basi' 'becom' 'bee' 'bend' 'big' 'bite' 'bleed' 'blister' 'bloat'\n",
      " 'blood' 'bloodi' 'bluish' 'blur' 'blurri' 'bodi' 'bout' 'bowel' 'breath'\n",
      " 'brittl' 'brownish' 'bruis' 'burn' 'burrow' 'caus' 'certain' 'chang'\n",
      " 'cheek' 'chest' 'chill' 'chronic' 'clear' 'click' 'climb' 'close'\n",
      " 'cloudi' 'cold' 'color' 'come' 'common' 'concentr' 'concern' 'confus'\n",
      " 'consist' 'constant' 'constantli' 'consum' 'continu' 'cool' 'coordin'\n",
      " 'cough' 'counter' 'cover' 'crack' 'cramp' 'cut' 'daili' 'dark' 'day'\n",
      " 'decreas' 'deep' 'deepli' 'depress' 'develop' 'diarrhea' 'diet'\n",
      " 'difficult' 'difficulti' 'discharg' 'discomfort' 'dizzi' 'doubl' 'dri'\n",
      " 'drink' 'ear' 'easi' 'easili' 'eat' 'end' 'energi' 'engag' 'enjoy'\n",
      " 'environ' 'episod' 'especi' 'even' 'event' 'everi' 'excess' 'excruci'\n",
      " 'exercis' 'exert' 'experi' 'experienc' 'extrem' 'eye' 'face' 'facial'\n",
      " 'faint' 'fall' 'far' 'fatigu' 'fear' 'feel' 'feet' 'felt' 'fever'\n",
      " 'feverish' 'find' 'fine' 'finger' 'fingertip' 'flake' 'flash' 'float'\n",
      " 'floater' 'focus' 'follow' 'food' 'forearm' 'forget' 'frequenc'\n",
      " 'frequent' 'full' 'ga' 'gain' 'gasp' 'gener' 'get' 'go' 'goe' 'greenish'\n",
      " 'gritti' 'groin' 'grow' 'gum' 'habit' 'hack' 'hair' 'hand' 'hard' 'head'\n",
      " 'headach' 'hear' 'heart' 'heartbeat' 'heartburn' 'heat' 'help' 'high'\n",
      " 'home' 'hopeless' 'hour' 'hunger' 'hurt' 'imag' 'impair' 'improv'\n",
      " 'includ' 'increas' 'increasingli' 'indigest' 'infect' 'inhal' 'injuri'\n",
      " 'insect' 'insid' 'insomnia' 'intens' 'intensifi' 'interest' 'intoler'\n",
      " 'irregular' 'irrit' 'itch' 'itchi' 'jaw' 'jitteri' 'joint' 'knee' 'known'\n",
      " 'lack' 'laps' 'larg' 'last' 'late' 'left' 'leg' 'lesion' 'letharg' 'lie'\n",
      " 'life' 'lift' 'light' 'like' 'limit' 'line' 'lip' 'liquid' 'long' 'look'\n",
      " 'lose' 'loss' 'lost' 'lot' 'lower' 'lump' 'lymph' 'maintain' 'make' 'may'\n",
      " 'meal' 'medic' 'memori' 'metal' 'migrain' 'mild' 'minim' 'mole' 'month'\n",
      " 'mood' 'morn' 'mostli' 'motor' 'mouth' 'movement' 'much' 'multipl'\n",
      " 'muscl' 'nail' 'nausea' 'neck' 'need' 'night' 'node' 'nois' 'nose'\n",
      " 'noseble' 'notic' 'numb' 'object' 'observ' 'occas' 'occasion' 'often'\n",
      " 'one' 'onset' 'outbreak' 'outdoor' 'outsid' 'pain' 'painless' 'palpit'\n",
      " 'panic' 'paralysi' 'particularli' 'pass' 'past' 'patch' 'peanut' 'period'\n",
      " 'persist' 'phlegm' 'physic' 'pressur' 'problem' 'progress' 'prolong'\n",
      " 'puffi' 'quickli' 'quit' 'radiat' 'rapid' 'rash' 'reaction' 'read'\n",
      " 'reason' 'recent' 'recur' 'recurr' 'red' 'reflux' 'regardless' 'regular'\n",
      " 'rememb' 'repeat' 'respond' 'rest' 'restless' 'right' 'ring' 'room'\n",
      " 'round' 'sad' 'scale' 'scalp' 'scratch' 'screen' 'season' 'see' 'seem'\n",
      " 'sens' 'sensat' 'sensit' 'sever' 'shake' 'sharp' 'shoot' 'short'\n",
      " 'shoulder' 'side' 'sign' 'significantli' 'silveri' 'simpl' 'sit' 'situat'\n",
      " 'size' 'skill' 'skin' 'sleep' 'smell' 'sneez' 'snore' 'social' 'sometim'\n",
      " 'sore' 'sound' 'spasm' 'speak' 'speech' 'spell' 'spici' 'spin' 'spot'\n",
      " 'spread' 'spring' 'sputum' 'stab' 'stair' 'stand' 'stay' 'stiff' 'sting'\n",
      " 'stomach' 'stool' 'stop' 'streak' 'stress' 'struggl' 'stuck' 'sudden'\n",
      " 'suddenli' 'swallow' 'sweat' 'swell' 'swing' 'swollen' 'take' 'task'\n",
      " 'tast' 'temperatur' 'tender' 'tendon' 'thin' 'thing' 'thirst' 'thirsti'\n",
      " 'three' 'throat' 'throb' 'throughout' 'tight' 'time' 'ting' 'tingl'\n",
      " 'tire' 'tired' 'toe' 'tongu' 'top' 'touch' 'tract' 'treatment' 'tremor'\n",
      " 'tri' 'trigger' 'troubl' 'two' 'ulcer' 'uncontrol' 'understand'\n",
      " 'unexpect' 'unexplain' 'unintend' 'unintent' 'unlik' 'unmotiv' 'unusu'\n",
      " 'upper' 'upset' 'urg' 'urin' 'urinari' 'use' 'usual' 'vertigo' 'violent'\n",
      " 'visibl' 'vision' 'voic' 'vomit' 'wake' 'walk' 'warm' 'water' 'wateri'\n",
      " 'weak' 'weather' 'week' 'weight' 'well' 'wheez' 'white' 'without' 'work'\n",
      " 'wors' 'worsen' 'wrist' 'yellow' 'yellowish']\n",
      "464\n"
     ]
    }
   ],
   "source": [
    "print(count.get_feature_names_out())\n",
    "print(len(count.get_feature_names_out()))"
   ]
  },
  {
   "cell_type": "code",
   "execution_count": 84,
   "id": "0fc89723-9c4d-49eb-93dc-fabca8f7f25a",
   "metadata": {},
   "outputs": [
    {
     "data": {
      "text/plain": [
       "(407, 464)"
      ]
     },
     "execution_count": 84,
     "metadata": {},
     "output_type": "execute_result"
    }
   ],
   "source": [
    "x.shape"
   ]
  },
  {
   "cell_type": "code",
   "execution_count": 103,
   "id": "6526290d-c311-41ad-bfee-c6520849eaf4",
   "metadata": {},
   "outputs": [],
   "source": [
    "encode = LabelEncoder()\n",
    "y = encode.fit_transform(y)"
   ]
  },
  {
   "cell_type": "code",
   "execution_count": 104,
   "id": "d0e9ebee-5bfb-4ef4-a760-510b333bf697",
   "metadata": {},
   "outputs": [
    {
     "data": {
      "text/plain": [
       "array(['Achilles Tendinitis', 'Acid Reflux',\n",
       "       'Age-related Macular Degeneration', 'Allergic Rhinitis',\n",
       "       'Alopecia Areata', \"Alzheimer's Disease\", 'Anaphylaxis',\n",
       "       'Androgenetic Alopecia', 'Angina', 'Angina Pectoris', 'Anorexia',\n",
       "       'Anxiety Disorder', 'Aphthous Ulcers', 'Appendicitis',\n",
       "       'Arrhythmia', 'Asthma', \"Athlete's Foot\", 'Atopic Dermatitis',\n",
       "       'Atrial Fibrillation', 'Attention Deficit Hyperactivity Disorder',\n",
       "       'Basal Cell Carcinoma', \"Bell's Palsy\",\n",
       "       'Benign Positional Vertigo', 'Bipolar Disorder',\n",
       "       'Bronchial Asthma', 'Bronchitis', 'COVID-19',\n",
       "       'Carpal Tunnel Syndrome', 'Cellulitis', 'Chronic Asthma',\n",
       "       'Chronic Bronchitis', 'Chronic Fatigue Syndrome',\n",
       "       'Chronic Migraine', 'Chronic Obstructive Pulmonary Disease',\n",
       "       'Chronic Obstructive Pulmonary Disease (COPD)',\n",
       "       'Cluster Headaches', 'Colorectal Cancer', 'Conjunctivitis',\n",
       "       'Constipation', 'Contact Dermatitis', \"Cushing's Syndrome\",\n",
       "       'Cyanosis', 'Cystic Acne', 'Cystitis', 'Deep Vein Thrombosis',\n",
       "       'Depression', 'Diabetes', 'Diabetes Insipidus',\n",
       "       'Diabetes Mellitus', 'Diabetes Type 1', 'Diabetes Type 2',\n",
       "       'Diabetic Retinopathy', 'Diplopia', 'Dry Eye Syndrome',\n",
       "       'Early Onset Dementia', 'Eczema', 'Electrolyte Imbalance',\n",
       "       'Epistaxis', 'Esophageal Cancer', 'Esophageal Obstruction',\n",
       "       'Esophageal Reflux', 'Esophageal Stricture', 'Esophagitis',\n",
       "       'Eustachian Tube Dysfunction', 'Exercise-Induced Asthma',\n",
       "       'Food Allergy', 'Frozen Shoulder', 'GERD', 'Gallstones',\n",
       "       'Gastritis', 'Gastroenteritis', 'Gastroesophageal Reflux Disease',\n",
       "       'Gastroesophageal Reflux Disease (GERD)',\n",
       "       'Gastrointestinal Infection', 'Generalized Anxiety Disorder',\n",
       "       'Gingivitis', 'Gout', 'Heart Failure', 'Hematuria', 'Hemophilia',\n",
       "       'Hepatitis', 'Hepatitis C',\n",
       "       'Hereditary Hemorrhagic Telangiectasia', 'Herniated Disc',\n",
       "       'Herpes Simplex', 'Hyperhidrosis', 'Hypertension',\n",
       "       'Hyperthyroidism', 'Hypothyroidism', 'Influenza', 'Insomnia',\n",
       "       'Insomnia and Anxiety',\n",
       "       'Insomnia and Generalized Anxiety Disorder',\n",
       "       'Iron Deficiency Anemia', 'Irritable Bowel Syndrome',\n",
       "       'Irritable Bowel Syndrome (IBS)', 'Jaundice', 'Kidney Stones',\n",
       "       'Knee Osteoarthritis', 'Laryngitis', 'Leukemia', 'Leukoplakia',\n",
       "       'Liver Disease', 'Lung Cancer', 'Lupus', 'Lymphadenitis',\n",
       "       'Lymphoma', 'Major Depressive Disorder', 'Malaria',\n",
       "       'Malignant Melanoma', 'Melasma', 'Meningitis', 'Migraine',\n",
       "       'Migraine and Vertigo', 'Migraine with Aura', 'Migraines',\n",
       "       'Mononucleosis', 'Multiple Sclerosis', 'Muscular Dystrophy',\n",
       "       'Myocardial Infarction', 'Myopia', 'Myopia and Hyperopia',\n",
       "       'Night Blindness', 'Nystagmus', 'Oral Thrush',\n",
       "       'Orthostatic Hypotension', 'Overactive Bladder', 'Pancreatitis',\n",
       "       'Panic Attacks', 'Panic Disorder', \"Parkinson's Disease\",\n",
       "       'Paroxysmal Supraventricular Tachycardia', 'Patellar Tendinitis',\n",
       "       'Peanut Allergy', 'Pericarditis', 'Peripheral Artery Disease',\n",
       "       'Peripheral Neuropathy', 'Pharyngitis', 'Pleurisy', 'Pneumonia',\n",
       "       'Polycystic Ovary Syndrome', 'Pregnancy', 'Presbyopia',\n",
       "       'Psoriasis', 'Pulmonary Embolism', \"Raynaud's Phenomenon\",\n",
       "       'Retinal Detachment', 'Retinal Vein Occlusion',\n",
       "       'Rheumatoid Arthritis', 'Scabies', 'Sciatica',\n",
       "       'Seasonal Allergies', 'Seborrheic Dermatitis',\n",
       "       'Severe Allergic Reaction', 'Sleep Apnea',\n",
       "       'Social Anxiety Disorder', 'Strep Throat',\n",
       "       'Streptococcal Pharyngitis', 'Stroke', 'Subarachnoid Hemorrhage',\n",
       "       'Temporomandibular Joint Disorder', 'Tendinitis',\n",
       "       'Tension Headaches', 'Thyroid Cancer', 'Thyroid Nodule',\n",
       "       'Tinnitus', 'Transient Ischemic Attack', 'Tuberculosis',\n",
       "       'Type 1 Diabetes', 'Type 1 Diabetes Mellitus', 'Typhoid Fever',\n",
       "       'Ulcerative Colitis', 'Unexplained Weight Loss',\n",
       "       'Urinary Tract Infection', 'Uveitis', 'Vasovagal Syncope',\n",
       "       'Venous Insufficiency', 'Vertigo'], dtype=object)"
      ]
     },
     "execution_count": 104,
     "metadata": {},
     "output_type": "execute_result"
    }
   ],
   "source": [
    "encode.classes_"
   ]
  },
  {
   "cell_type": "code",
   "execution_count": 48,
   "id": "de4a6d49-a092-4fb4-913d-9fca1505f32c",
   "metadata": {},
   "outputs": [
    {
     "name": "stdout",
     "output_type": "stream",
     "text": [
      "(407, 464)\n",
      "(407,)\n"
     ]
    }
   ],
   "source": [
    "print(x.shape)\n",
    "print(y.shape)"
   ]
  },
  {
   "cell_type": "code",
   "execution_count": 43,
   "id": "0ea87949-9341-4442-85b5-d92dc1d241c9",
   "metadata": {},
   "outputs": [],
   "source": [
    "x_train,x_test,y_train,y_test = train_test_split(x,y,test_size = 0.2)"
   ]
  },
  {
   "cell_type": "code",
   "execution_count": 46,
   "id": "90387c0d-7b53-418e-9133-2e110342499f",
   "metadata": {},
   "outputs": [
    {
     "name": "stdout",
     "output_type": "stream",
     "text": [
      "(325, 464) (82, 464)\n",
      "(325,) (82,)\n"
     ]
    }
   ],
   "source": [
    "print(x_train.shape,x_test.shape)\n",
    "print(y_train.shape,y_test.shape)"
   ]
  },
  {
   "cell_type": "code",
   "execution_count": 142,
   "id": "ace46ae4-cec1-4860-ad5d-9b60d191308a",
   "metadata": {},
   "outputs": [],
   "source": [
    "from sklearn.linear_model import LogisticRegression\n",
    "from sklearn.ensemble import RandomForestClassifier\n",
    "from sklearn.svm import SVC\n",
    "# from sklearn.metrics import mean_squared_error\n",
    "model = RandomForestClassifier(class_weight='balanced')\n",
    "model.fit(x_train,y_train)\n",
    "pred = model.predict(x_train)\n",
    "pred2 = model.predict(x_test)\n",
    "train_acc = accuracy_score(y_train,pred)\n",
    "test_acc = accuracy_score(y_test,pred2)"
   ]
  },
  {
   "cell_type": "code",
   "execution_count": 143,
   "id": "50bbe038-c1fd-480f-a5d5-a03ea4cc7650",
   "metadata": {},
   "outputs": [
    {
     "name": "stdout",
     "output_type": "stream",
     "text": [
      "0.9815384615384616\n",
      "0.3902439024390244\n"
     ]
    }
   ],
   "source": [
    "print(train_acc)\n",
    "print(test_acc)"
   ]
  },
  {
   "cell_type": "code",
   "execution_count": 144,
   "id": "695d146e-772d-4bd9-ba40-92fc7cf094b4",
   "metadata": {},
   "outputs": [
    {
     "data": {
      "text/plain": [
       "0.4024390243902439"
      ]
     },
     "execution_count": 144,
     "metadata": {},
     "output_type": "execute_result"
    }
   ],
   "source": [
    "param_grid = {\n",
    "    'n_estimators': [50, 100, 200],\n",
    "    'max_depth': [None, 10, 20, 30],\n",
    "    'min_samples_split': [2, 5, 10],\n",
    "}\n",
    "grid = GridSearchCV(model,param_grid,cv=5)\n",
    "grid.fit(x_train,y_train)\n",
    "best_grid = grid.best_estimator_\n",
    "best_grid.score(x_test,y_test)"
   ]
  },
  {
   "cell_type": "code",
   "execution_count": 123,
   "id": "4f1cb035-a0a0-48e5-aed1-7fbff6778770",
   "metadata": {},
   "outputs": [
    {
     "data": {
      "text/plain": [
       "0.9815384615384616"
      ]
     },
     "execution_count": 123,
     "metadata": {},
     "output_type": "execute_result"
    }
   ],
   "source": [
    "# r_model = RandomForestClassifier()\n",
    "# r_model.fit(x_train,y_train)\n",
    "# pre_test = r_model.predict(x_train)\n",
    "# print(accuracy_score(pre_test,y_train))"
   ]
  },
  {
   "cell_type": "code",
   "execution_count": 131,
   "id": "230d011a-f3ba-4e0a-8169-6a09e2b62de0",
   "metadata": {},
   "outputs": [
    {
     "name": "stdout",
     "output_type": "stream",
     "text": [
      "['Bronchial Asthma']\n"
     ]
    }
   ],
   "source": [
    "def make(input_data):\n",
    "    pre = preprocess(input_data)\n",
    "    trans = count.transform([pre])\n",
    "    # data =np.array(trans).reshape(1,-1)\n",
    "    result = model.predict(trans)\n",
    "    return encode.inverse_transform(result)\n",
    "input_text = \"Persistent cough and wheezing, especially at night, with difficulty breathing.\"\n",
    "disease = make(input_text)\n",
    "print(disease)"
   ]
  },
  {
   "cell_type": "code",
   "execution_count": null,
   "id": "19902d33-e22f-4f80-a5aa-c0061175a4f1",
   "metadata": {},
   "outputs": [],
   "source": []
  },
  {
   "cell_type": "code",
   "execution_count": null,
   "id": "a6034f2f-de75-469b-9527-a097cde2ab3f",
   "metadata": {},
   "outputs": [],
   "source": []
  }
 ],
 "metadata": {
  "kernelspec": {
   "display_name": "Python 3 (ipykernel)",
   "language": "python",
   "name": "python3"
  },
  "language_info": {
   "codemirror_mode": {
    "name": "ipython",
    "version": 3
   },
   "file_extension": ".py",
   "mimetype": "text/x-python",
   "name": "python",
   "nbconvert_exporter": "python",
   "pygments_lexer": "ipython3",
   "version": "3.10.8"
  }
 },
 "nbformat": 4,
 "nbformat_minor": 5
}
